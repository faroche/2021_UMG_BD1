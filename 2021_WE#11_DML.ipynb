{
    "metadata": {
        "kernelspec": {
            "name": "SQL",
            "display_name": "SQL",
            "language": "sql"
        },
        "language_info": {
            "name": "sql",
            "version": ""
        },
        "extensions": {
            "azuredatastudio": {
                "version": 1,
                "views": []
            }
        }
    },
    "nbformat_minor": 2,
    "nbformat": 4,
    "cells": [
        {
            "cell_type": "markdown",
            "source": [
                "# **UMG - Base de Datos 1**\r\n",
                "## **Lenguaje de Manipulación de Datos - Data Manipulation language DML**\n",
                "\n",
                "\r\n",
                ""
            ],
            "metadata": {
                "azdata_cell_guid": "7ccd5dbb-8e62-4a56-8aa8-e9bd6f064ae5",
                "extensions": {
                    "azuredatastudio": {
                        "views": []
                    }
                }
            }
        },
        {
            "cell_type": "markdown",
            "source": [
                "Un lenguaje de manipulación de datos (LMD) es un lenguaje que permite a los usuarios tener acceso a los datos organizados mediante el modelo de datos correspondiente, o manipularlos. Los tipos de accesos son:\n",
                "\n",
                "- La recuperación de la información almacenada en la base de datos.\n",
                "- La inserción de información nueva en la base de datos.\n",
                "- El borrado de la información en la base de datos\n",
                "- La modificación de la información almacenada en la base de datos.\n",
                "\n",
                "Los comandos son:\n",
                "\n",
                "- **INSERT** Inserción de Datos\n",
                "- **UPDATE** Edición/Actualización de Datos\n",
                "- **DELETE** Borrar Datos existentes\n",
                "- **SELECT** Recuperación de Datos\n",
                "\n",
                "**Nota:** Los scripts DDL para crear la base de datos a utilizar en los ejemplos se encuentra al final de este documento."
            ],
            "metadata": {
                "azdata_cell_guid": "b721e09b-5963-41e3-9fc8-77bc06079c61",
                "extensions": {
                    "azuredatastudio": {
                        "views": []
                    }
                }
            },
            "attachments": {}
        },
        {
            "cell_type": "markdown",
            "source": [
                "## <u>**Sentencia INSERT**</u>\r\n",
                "\r\n",
                "### <u>Sintaxis:</u> \r\n",
                "\r\n",
                "**INSERT INTO {Base de Datos.Esquema.Nombre Tabla} (Columnas)\r\n",
                "VALUES (valores)**\r\n",
                "\r\n",
                "Ejemplos: \r\n",
                "\r\n",
                "<i>Insertar una fila o registro</i>"
            ],
            "metadata": {
                "azdata_cell_guid": "3fb407fb-604b-4619-b213-1d22c27d7384",
                "extensions": {
                    "azuredatastudio": {
                        "views": []
                    }
                }
            }
        },
        {
            "cell_type": "code",
            "source": [
                "USE Control_Alquileres\r\n",
                "INSERT INTO dbo.Agencia_Inmobiliaria (Agencia_ID,Nombre_Agencia,NIT,Direccion,Telefono)\r\n",
                "VALUES (1,'Inmobiliaria Agua Luna','12545-K','Zona 10','22200000')"
            ],
            "metadata": {
                "azdata_cell_guid": "5faa6d05-16d4-40d6-a6dc-cba07f68db1f",
                "tags": [],
                "extensions": {
                    "azuredatastudio": {
                        "views": []
                    }
                }
            },
            "outputs": [
                {
                    "output_type": "display_data",
                    "data": {
                        "text/html": "(1 row affected)"
                    },
                    "metadata": {}
                },
                {
                    "output_type": "display_data",
                    "data": {
                        "text/html": "Total execution time: 00:00:00.043"
                    },
                    "metadata": {}
                }
            ],
            "execution_count": 1
        },
        {
            "cell_type": "code",
            "source": [
                "USE Control_Alquileres\r\n",
                "INSERT INTO dbo.Vivienda\r\n",
                "SELECT 1,'7ma. Avenida Zona 1','1','01001','','Casa de 2 niveles y 4 habitaciones',1,1"
            ],
            "metadata": {
                "azdata_cell_guid": "c07fe755-1f41-445d-bfc8-42423ccb7370",
                "tags": [],
                "extensions": {
                    "azuredatastudio": {
                        "views": []
                    }
                }
            },
            "outputs": [
                {
                    "output_type": "display_data",
                    "data": {
                        "text/html": "(1 row affected)"
                    },
                    "metadata": {}
                },
                {
                    "output_type": "display_data",
                    "data": {
                        "text/html": "Total execution time: 00:00:00.003"
                    },
                    "metadata": {}
                }
            ],
            "execution_count": 4
        },
        {
            "cell_type": "markdown",
            "source": [
                "### <i>Insertar varias filas or registros</i>\r\n",
                "\r\n",
                "**INSERT INTO <nombre de tabla> (Columnas)\r\n",
                "VALUES (valores),(valores), ... ,(Valores)**\r\n",
                ""
            ],
            "metadata": {
                "azdata_cell_guid": "e7af3e8d-9aec-4a3d-8b3a-d285bb3b0cd5",
                "extensions": {
                    "azuredatastudio": {
                        "views": []
                    }
                }
            }
        },
        {
            "cell_type": "code",
            "source": [
                "USE Control_Alquileres\r\n",
                "INSERT INTO dbo.Propietario\r\n",
                "VALUES (1,'12345-1','Juan', 'Perez','5012-0000','Zona 1','juanperez@abc.com'),(2,'67890-2','Rodolfo','Valle','4011-0000','Zona 2','rodolfo1@zy.com')"
            ],
            "metadata": {
                "azdata_cell_guid": "27b8a57d-605c-4e2b-a2d5-6da70912efa3",
                "extensions": {
                    "azuredatastudio": {
                        "views": []
                    }
                }
            },
            "outputs": [
                {
                    "output_type": "error",
                    "evalue": "Msg 2627, Level 14, State 1, Line 2\r\nViolation of PRIMARY KEY constraint 'PK__Propieta__5FCF4EF721DEAE47'. Cannot insert duplicate key in object 'dbo.Propietario'. The duplicate key value is (1).",
                    "ename": "",
                    "traceback": []
                },
                {
                    "output_type": "display_data",
                    "data": {
                        "text/html": "The statement has been terminated."
                    },
                    "metadata": {}
                },
                {
                    "output_type": "display_data",
                    "data": {
                        "text/html": "Total execution time: 00:00:00.004"
                    },
                    "metadata": {}
                }
            ],
            "execution_count": 12
        },
        {
            "cell_type": "markdown",
            "source": [
                "### <i>Insertar filas o registros en diferente order de como fue definido en la tabla</i>\r\n",
                "\r\n",
                "**INSERT INTO <nombre de tabla> (Columnas)\r\n",
                "VALUES (valores)**\r\n",
                "\r\n",
                ""
            ],
            "metadata": {
                "azdata_cell_guid": "bc0c1261-56ba-4e75-9f72-1e34e48ed12b",
                "extensions": {
                    "azuredatastudio": {
                        "views": []
                    }
                }
            }
        },
        {
            "cell_type": "code",
            "source": [
                "USE Control_Alquileres\r\n",
                "INSERT INTO dbo.Inquilino (Nit,Apellido,Telefono,FechaNacimiento,Inquilino_id,Nombre)\r\n",
                "VALUES ('5679-2','Garcia','54557891','1980-08-01',1,'Luis')\r\n",
                "\r\n",
                "/*Insertar primer contrato*/\r\n",
                "INSERT INTO dbo.Control_Alquiler (Fecha_Firma,Vivienda_id,fecha_inicio,fecha_fin,Importe_Mensual,Fianza,Alquiler_renovacion,Inquilino_id)\r\n",
                "SELECT '2019-03-01',1,'2019-04-01','2020-04-01',3000.00,500.00,NULL,1\r\n",
                "\r\n",
                "/*Insertar segundo contrato*/\r\n",
                "INSERT INTO dbo.Control_Alquiler (Fecha_Firma,Vivienda_id,fecha_inicio,fecha_fin,Importe_Mensual,Fianza,Alquiler_renovacion,Inquilino_id)\r\n",
                "SELECT '2020-03-01',1,'2020-04-01','2021-04-01',3500.00,500.00,1,1"
            ],
            "metadata": {
                "azdata_cell_guid": "5b0234d9-696f-4646-8bb8-9cefb5cf9883",
                "extensions": {
                    "azuredatastudio": {
                        "views": []
                    }
                },
                "tags": []
            },
            "outputs": [
                {
                    "output_type": "error",
                    "evalue": "Msg 2627, Level 14, State 1, Line 2\r\nViolation of PRIMARY KEY constraint 'PK_Inquilino_ID'. Cannot insert duplicate key in object 'dbo.Inquilino'. The duplicate key value is (1).",
                    "ename": "",
                    "traceback": []
                },
                {
                    "output_type": "display_data",
                    "data": {
                        "text/html": "The statement has been terminated."
                    },
                    "metadata": {}
                },
                {
                    "output_type": "display_data",
                    "data": {
                        "text/html": "(1 row affected)"
                    },
                    "metadata": {}
                },
                {
                    "output_type": "error",
                    "evalue": "Msg 547, Level 16, State 0, Line 10\r\nThe INSERT statement conflicted with the FOREIGN KEY SAME TABLE constraint \"Alquiler_Renovacion\". The conflict occurred in database \"Control_Alquileres\", table \"dbo.Control_Alquiler\", column 'Alquiler_ID'.",
                    "ename": "",
                    "traceback": []
                },
                {
                    "output_type": "display_data",
                    "data": {
                        "text/html": "The statement has been terminated."
                    },
                    "metadata": {}
                },
                {
                    "output_type": "display_data",
                    "data": {
                        "text/html": "Total execution time: 00:00:00.005"
                    },
                    "metadata": {}
                }
            ],
            "execution_count": 19
        },
        {
            "cell_type": "markdown",
            "source": [
                "Fuente:  https://docs.microsoft.com/en-us/sql/t-sql/statements/insert-transact-sql?view=sql-server-ver15"
            ],
            "metadata": {
                "azdata_cell_guid": "21028707-fad1-4f41-9f6b-2dc02f994f8f",
                "extensions": {
                    "azuredatastudio": {
                        "views": []
                    }
                }
            }
        },
        {
            "cell_type": "markdown",
            "source": [
                "## **<u>Sentencia UPDATE</U>**\r\n",
                "### <u>Sintaxis: </u>\r\n",
                "\r\n",
                "**UPDATE {Base de Datos.Esquema.Nombre Tabla}**\r\n",
                "**SET {Nombre Columna} = {Valor}**\r\n",
                "**WHERE {Condicion}**\r\n",
                "\r\n",
                "Ejemplos\r\n",
                "\r\n",
                "<i>Actualizar una columna:</i>\r\n",
                "\r\n",
                ""
            ],
            "metadata": {
                "azdata_cell_guid": "5c2fc8da-0792-42b0-8a3e-95811407e879",
                "extensions": {
                    "azuredatastudio": {
                        "views": []
                    }
                }
            }
        },
        {
            "cell_type": "code",
            "source": [
                "USE Control_Alquileres\r\n",
                "UPDATE dbo.Vivienda\r\n",
                "SET Poblacion = 'Barrio Moderno'"
            ],
            "metadata": {
                "azdata_cell_guid": "0678eea0-565e-4863-9ad5-72f210b81f78",
                "extensions": {
                    "azuredatastudio": {
                        "views": []
                    }
                },
                "tags": []
            },
            "outputs": [
                {
                    "output_type": "display_data",
                    "data": {
                        "text/html": "(1 row affected)"
                    },
                    "metadata": {}
                },
                {
                    "output_type": "display_data",
                    "data": {
                        "text/html": "Total execution time: 00:00:00.007"
                    },
                    "metadata": {}
                }
            ],
            "execution_count": 6
        },
        {
            "cell_type": "markdown",
            "source": [
                "<i>Actualizar Multiples Columnas</i>"
            ],
            "metadata": {
                "azdata_cell_guid": "c82c05e7-c356-4a03-8d28-94aa3a11e272",
                "extensions": {
                    "azuredatastudio": {
                        "views": []
                    }
                }
            }
        },
        {
            "cell_type": "code",
            "source": [
                "USE Control_Alquileres\r\n",
                "UPDATE dbo.Vivienda\r\n",
                "SET Calle = '7ma Avenida 15-01 Zona 1', Descripcion = 'Casa de 1 nivel, 4 habitaciones y 2 baños'"
            ],
            "metadata": {
                "azdata_cell_guid": "aed89d77-4339-4327-9625-f15427fea866",
                "extensions": {
                    "azuredatastudio": {
                        "views": []
                    }
                },
                "tags": [
                    "hide_input"
                ]
            },
            "outputs": [
                {
                    "output_type": "display_data",
                    "data": {
                        "text/html": "(1 row affected)"
                    },
                    "metadata": {}
                },
                {
                    "output_type": "display_data",
                    "data": {
                        "text/html": "Total execution time: 00:00:00.007"
                    },
                    "metadata": {}
                }
            ],
            "execution_count": 7
        },
        {
            "cell_type": "markdown",
            "source": [
                "<i>Actualizar Filas utilizando Condiciones</i>"
            ],
            "metadata": {
                "azdata_cell_guid": "381a1ff5-c512-40df-8769-d0318ab39230",
                "extensions": {
                    "azuredatastudio": {
                        "views": []
                    }
                }
            }
        },
        {
            "cell_type": "code",
            "source": [
                "USE Control_Alquileres\r\n",
                "UPDATE dbo.Propietario\r\n",
                "SET email = 'rodolfo1@zy.com / rvalle@x.com'\r\n",
                "WHERE Propietario_id = 2"
            ],
            "metadata": {
                "azdata_cell_guid": "4c46f17d-cdff-4921-b375-98f3ababb9a7",
                "tags": [],
                "extensions": {
                    "azuredatastudio": {
                        "views": []
                    }
                }
            },
            "outputs": [
                {
                    "output_type": "display_data",
                    "data": {
                        "text/html": "(1 row affected)"
                    },
                    "metadata": {}
                },
                {
                    "output_type": "display_data",
                    "data": {
                        "text/html": "Total execution time: 00:00:00.009"
                    },
                    "metadata": {}
                }
            ],
            "execution_count": 8
        },
        {
            "cell_type": "markdown",
            "source": [
                "Fuente: https://docs.microsoft.com/en-us/sql/t-sql/queries/update-transact-sql?view=sql-server-ver15"
            ],
            "metadata": {
                "azdata_cell_guid": "0fe27806-5a57-4333-84cc-ea3dc9d3e5aa",
                "extensions": {
                    "azuredatastudio": {
                        "views": []
                    }
                }
            }
        },
        {
            "cell_type": "markdown",
            "source": [
                "## <u>**Sentencia DELETE**</u>\r\n",
                "\r\n",
                "### <u>Sintaxis:</u><br>\r\n",
                "**DELETE FROM {Base de Datos.Esquema.Nombre Tabla}**<br> **WHERE {Condición}**\r\n",
                "\r\n",
                "Ejemplos: \r\n",
                "\r\n",
                "<i>Borrar todos los registros de una tabla</i>"
            ],
            "metadata": {
                "azdata_cell_guid": "536ee397-6a83-46be-a2af-8f3cf12cba00",
                "extensions": {
                    "azuredatastudio": {
                        "views": []
                    }
                }
            }
        },
        {
            "cell_type": "code",
            "source": [
                "USE Control_Alquileres\r\n",
                "DELETE FROM dbo.Control_Alquiler\r\n",
                ""
            ],
            "metadata": {
                "azdata_cell_guid": "4b11d3d8-80b5-4042-a18b-c85b978726e8",
                "extensions": {
                    "azuredatastudio": {
                        "views": []
                    }
                },
                "tags": [
                    "hide_input"
                ]
            },
            "outputs": [],
            "execution_count": null
        },
        {
            "cell_type": "markdown",
            "source": [
                "<i>Borrar registros utilizando condiciones</i>"
            ],
            "metadata": {
                "azdata_cell_guid": "99a32b3f-24b0-4f47-bce3-4194c36e4c29",
                "extensions": {
                    "azuredatastudio": {
                        "views": []
                    }
                }
            }
        },
        {
            "cell_type": "code",
            "source": [
                "USE Control_Alquileres\r\n",
                "DELETE FROM dbo.Propietario\r\n",
                "WHERE Propietario_id = 2"
            ],
            "metadata": {
                "azdata_cell_guid": "0272ac90-7030-45b2-84ad-37588a5ad8a5",
                "tags": [],
                "extensions": {
                    "azuredatastudio": {
                        "views": []
                    }
                }
            },
            "outputs": [
                {
                    "output_type": "display_data",
                    "data": {
                        "text/html": "(0 rows affected)"
                    },
                    "metadata": {}
                },
                {
                    "output_type": "display_data",
                    "data": {
                        "text/html": "Total execution time: 00:00:00.001"
                    },
                    "metadata": {}
                }
            ],
            "execution_count": 11
        },
        {
            "cell_type": "markdown",
            "source": [
                "## **<U>Sentencia SELECT</u>**\r\n",
                "### <u>Sintaxis</u>\r\n",
                "**SELECT {Columnas}<br>FROM {Base de datos.Esquema.Nombre Tabla}<br>WHERE {Condición de Busqueda}<br>GROUP BY{expresión}<br>HAVING {Expresión}<br>ORDER BY {Expresión ASC|DESC}**\r\n",
                "\r\n",
                "### Ejemplos:\r\n",
                "<i>Recuperación la información de una tabla</i>\r\n",
                "\r\n",
                ""
            ],
            "metadata": {
                "azdata_cell_guid": "80e1da3c-78fd-4be5-8760-11df2f4fe2fc",
                "extensions": {
                    "azuredatastudio": {
                        "views": []
                    }
                }
            }
        },
        {
            "cell_type": "code",
            "source": [
                "USE Control_Alquileres\r\n",
                "SELECT *\r\n",
                "FROM Propietario"
            ],
            "metadata": {
                "azdata_cell_guid": "e9976f68-1f16-415e-9844-c96f1e743b79",
                "extensions": {
                    "azuredatastudio": {
                        "views": []
                    }
                }
            },
            "outputs": [
                {
                    "output_type": "display_data",
                    "data": {
                        "text/html": "(1 row affected)"
                    },
                    "metadata": {}
                },
                {
                    "output_type": "display_data",
                    "data": {
                        "text/html": "Total execution time: 00:00:00.008"
                    },
                    "metadata": {}
                },
                {
                    "output_type": "execute_result",
                    "metadata": {},
                    "execution_count": 15,
                    "data": {
                        "application/vnd.dataresource+json": {
                            "schema": {
                                "fields": [
                                    {
                                        "name": "Propietario_id"
                                    },
                                    {
                                        "name": "Nit"
                                    },
                                    {
                                        "name": "Nombre"
                                    },
                                    {
                                        "name": "Apellido"
                                    },
                                    {
                                        "name": "Telefono"
                                    },
                                    {
                                        "name": "Direccion"
                                    },
                                    {
                                        "name": "Email"
                                    }
                                ]
                            },
                            "data": [
                                {
                                    "0": "1",
                                    "1": "12345-1",
                                    "2": "Juan",
                                    "3": "Perez",
                                    "4": "5012-0000",
                                    "5": "Zona 1",
                                    "6": "juanperez@abc.com"
                                }
                            ]
                        },
                        "text/html": [
                            "<table>",
                            "<tr><th>Propietario_id</th><th>Nit</th><th>Nombre</th><th>Apellido</th><th>Telefono</th><th>Direccion</th><th>Email</th></tr>",
                            "<tr><td>1</td><td>12345-1</td><td>Juan</td><td>Perez</td><td>5012-0000</td><td>Zona 1</td><td>juanperez@abc.com</td></tr>",
                            "</table>"
                        ]
                    }
                }
            ],
            "execution_count": 15
        },
        {
            "cell_type": "markdown",
            "source": [
                "<i>Leer Información con Columnas Específicas</i>"
            ],
            "metadata": {
                "azdata_cell_guid": "3133f755-ce50-4e0b-919c-a7bc62ca90a9",
                "extensions": {
                    "azuredatastudio": {
                        "views": []
                    }
                }
            }
        },
        {
            "cell_type": "code",
            "source": [
                "USE Control_Alquileres\r\n",
                "SELECT Nombre_Agencia, Direccion\r\n",
                "FROM Agencia_Inmobiliaria\r\n",
                "ORDER BY Agencia_ID ASC"
            ],
            "metadata": {
                "azdata_cell_guid": "2f766519-5ac9-4f78-ac20-eaa1c887cc2b",
                "extensions": {
                    "azuredatastudio": {
                        "views": []
                    }
                }
            },
            "outputs": [
                {
                    "output_type": "display_data",
                    "data": {
                        "text/html": "(1 row affected)"
                    },
                    "metadata": {}
                },
                {
                    "output_type": "display_data",
                    "data": {
                        "text/html": "Total execution time: 00:00:00.015"
                    },
                    "metadata": {}
                },
                {
                    "output_type": "execute_result",
                    "metadata": {},
                    "execution_count": 16,
                    "data": {
                        "application/vnd.dataresource+json": {
                            "schema": {
                                "fields": [
                                    {
                                        "name": "Nombre_Agencia"
                                    },
                                    {
                                        "name": "Direccion"
                                    }
                                ]
                            },
                            "data": [
                                {
                                    "0": "Inmobiliaria Agua Luna",
                                    "1": "Zona 10"
                                }
                            ]
                        },
                        "text/html": [
                            "<table>",
                            "<tr><th>Nombre_Agencia</th><th>Direccion</th></tr>",
                            "<tr><td>Inmobiliaria Agua Luna</td><td>Zona 10</td></tr>",
                            "</table>"
                        ]
                    }
                }
            ],
            "execution_count": 16
        },
        {
            "cell_type": "markdown",
            "source": [
                "Utilización de DISTINCT"
            ],
            "metadata": {
                "azdata_cell_guid": "8f2df83c-a7d2-4921-a9f6-0bb5c9c5b0c8",
                "extensions": {
                    "azuredatastudio": {
                        "views": []
                    }
                }
            }
        },
        {
            "cell_type": "code",
            "source": [
                "/*Mostrar datos sin duplicados*/\r\n",
                "USE Control_Alquileres\r\n",
                "SELECT DISTINCT Nombre,Apellido\r\n",
                "FROM Propietario\r\n",
                "ORDER BY Nombre ASC"
            ],
            "metadata": {
                "azdata_cell_guid": "13a9b31d-eeb8-4f18-bcd9-1b50e144a01a",
                "extensions": {
                    "azuredatastudio": {
                        "views": []
                    }
                }
            },
            "outputs": [
                {
                    "output_type": "display_data",
                    "data": {
                        "text/html": "(2 rows affected)"
                    },
                    "metadata": {}
                },
                {
                    "output_type": "display_data",
                    "data": {
                        "text/html": "Total execution time: 00:00:00.015"
                    },
                    "metadata": {}
                },
                {
                    "output_type": "execute_result",
                    "metadata": {},
                    "execution_count": 17,
                    "data": {
                        "application/vnd.dataresource+json": {
                            "schema": {
                                "fields": [
                                    {
                                        "name": "Nombre"
                                    },
                                    {
                                        "name": "Apellido"
                                    }
                                ]
                            },
                            "data": [
                                {
                                    "0": "Juan",
                                    "1": "Perez"
                                },
                                {
                                    "0": "Rodolfo",
                                    "1": "Valle"
                                }
                            ]
                        },
                        "text/html": [
                            "<table>",
                            "<tr><th>Nombre</th><th>Apellido</th></tr>",
                            "<tr><td>Juan</td><td>Perez</td></tr>",
                            "<tr><td>Rodolfo</td><td>Valle</td></tr>",
                            "</table>"
                        ]
                    }
                }
            ],
            "execution_count": 17
        },
        {
            "cell_type": "markdown",
            "source": [
                "Utilización de GROUP BY y WHERE"
            ],
            "metadata": {
                "azdata_cell_guid": "d1964064-2ad7-4b19-aa1e-af839c5dee88",
                "extensions": {
                    "azuredatastudio": {
                        "views": []
                    }
                }
            }
        },
        {
            "cell_type": "code",
            "source": [
                "USE Control_Alquileres\r\n",
                "/*Agrupar por codigo postal*/\r\n",
                "SELECT CodigoPostal, count(*) As [Numero de Viviendas]\r\n",
                "FROM Vivienda\r\n",
                "GROUP BY CodigoPostal\r\n",
                "ORDER BY CodigoPostal ASC \r\n",
                "\r\n",
                "/*Agrupar y visualizar el promedio de Alquileres cuando es primer contrato despues de 2019-01-01*/\r\n",
                "SELECT Vivienda_ID, AVG(Importe_mensual) AS Promedio_Importe_Mensual\r\n",
                "FROM Control_Alquiler\r\n",
                "WHERE Fecha_inicio >= '2019-01-01' AND ISNULL(Alquiler_renovacion,'') = ''\r\n",
                "GROUP BY Vivienda_ID"
            ],
            "metadata": {
                "azdata_cell_guid": "ac1b74e7-7fac-41f6-9aa4-e47a4fd92497",
                "tags": [],
                "extensions": {
                    "azuredatastudio": {
                        "views": []
                    }
                }
            },
            "outputs": [
                {
                    "output_type": "display_data",
                    "data": {
                        "text/html": "(1 row affected)"
                    },
                    "metadata": {}
                },
                {
                    "output_type": "display_data",
                    "data": {
                        "text/html": "(1 row affected)"
                    },
                    "metadata": {}
                },
                {
                    "output_type": "display_data",
                    "data": {
                        "text/html": "Total execution time: 00:00:00.012"
                    },
                    "metadata": {}
                },
                {
                    "output_type": "execute_result",
                    "metadata": {},
                    "execution_count": 22,
                    "data": {
                        "application/vnd.dataresource+json": {
                            "schema": {
                                "fields": [
                                    {
                                        "name": "CodigoPostal"
                                    },
                                    {
                                        "name": "Numero de Viviendas"
                                    }
                                ]
                            },
                            "data": [
                                {
                                    "0": "01001",
                                    "1": "1"
                                }
                            ]
                        },
                        "text/html": [
                            "<table>",
                            "<tr><th>CodigoPostal</th><th>Numero de Viviendas</th></tr>",
                            "<tr><td>01001</td><td>1</td></tr>",
                            "</table>"
                        ]
                    }
                },
                {
                    "output_type": "execute_result",
                    "metadata": {},
                    "execution_count": 22,
                    "data": {
                        "application/vnd.dataresource+json": {
                            "schema": {
                                "fields": [
                                    {
                                        "name": "Vivienda_ID"
                                    },
                                    {
                                        "name": "Promedio_Importe_Mensual"
                                    }
                                ]
                            },
                            "data": [
                                {
                                    "0": "1",
                                    "1": "3000.000000"
                                }
                            ]
                        },
                        "text/html": [
                            "<table>",
                            "<tr><th>Vivienda_ID</th><th>Promedio_Importe_Mensual</th></tr>",
                            "<tr><td>1</td><td>3000.000000</td></tr>",
                            "</table>"
                        ]
                    }
                }
            ],
            "execution_count": 22
        },
        {
            "cell_type": "markdown",
            "source": [
                "SELECT y utilización de diferentes Condiciones o WHERE"
            ],
            "metadata": {
                "azdata_cell_guid": "9780903c-dfef-49fd-a4e0-defc490c9901",
                "extensions": {
                    "azuredatastudio": {
                        "views": []
                    }
                }
            }
        },
        {
            "cell_type": "code",
            "source": [
                "/*Buscando un valor especifico*/\r\n",
                "USE Control_Alquileres\r\n",
                "SELECT Nombre + ' ' + Apellido AS [Nombre Completo]\r\n",
                "FROM Inquilino\r\n",
                "WHERE Nombre = 'Luis'\r\n",
                "\r\n",
                "/*Buscando un valor tratando de encontrar un valor con diferentes condiciones*/\r\n",
                "SELECT Nombre + ' ' + Apellido AS [Nombre Completo]\r\n",
                "FROM Inquilino\r\n",
                "WHERE Nombre = 'Luisa' OR Apellido = 'Garcia'\r\n",
                "\r\n",
                "/*Buscando un valor dentro de un string*/\r\n",
                "SELECT *\r\n",
                "FROM Vivienda\r\n",
                "WHERE Calle LIKE '%Zona 1'\r\n",
                "\r\n",
                "/*Buscando registros que esten en una lista de valores*/\r\n",
                "SELECT Nombre,Apellido\r\n",
                "FROM Propietario\r\n",
                "WHERE Apellido IN ('Garcia','Lopez','Valle','Perez')"
            ],
            "metadata": {
                "azdata_cell_guid": "9807e069-802f-4536-9dfa-411dc0a9bf44",
                "extensions": {
                    "azuredatastudio": {
                        "views": []
                    }
                }
            },
            "outputs": [
                {
                    "output_type": "display_data",
                    "data": {
                        "text/html": "(1 row affected)"
                    },
                    "metadata": {}
                },
                {
                    "output_type": "display_data",
                    "data": {
                        "text/html": "(1 row affected)"
                    },
                    "metadata": {}
                },
                {
                    "output_type": "display_data",
                    "data": {
                        "text/html": "(1 row affected)"
                    },
                    "metadata": {}
                },
                {
                    "output_type": "display_data",
                    "data": {
                        "text/html": "(2 rows affected)"
                    },
                    "metadata": {}
                },
                {
                    "output_type": "display_data",
                    "data": {
                        "text/html": "Total execution time: 00:00:00.028"
                    },
                    "metadata": {}
                },
                {
                    "output_type": "execute_result",
                    "metadata": {},
                    "execution_count": 27,
                    "data": {
                        "application/vnd.dataresource+json": {
                            "schema": {
                                "fields": [
                                    {
                                        "name": "Nombre Completo"
                                    }
                                ]
                            },
                            "data": [
                                {
                                    "0": "Luis Garcia"
                                }
                            ]
                        },
                        "text/html": [
                            "<table>",
                            "<tr><th>Nombre Completo</th></tr>",
                            "<tr><td>Luis Garcia</td></tr>",
                            "</table>"
                        ]
                    }
                },
                {
                    "output_type": "execute_result",
                    "metadata": {},
                    "execution_count": 27,
                    "data": {
                        "application/vnd.dataresource+json": {
                            "schema": {
                                "fields": [
                                    {
                                        "name": "Nombre Completo"
                                    }
                                ]
                            },
                            "data": [
                                {
                                    "0": "Luis Garcia"
                                }
                            ]
                        },
                        "text/html": [
                            "<table>",
                            "<tr><th>Nombre Completo</th></tr>",
                            "<tr><td>Luis Garcia</td></tr>",
                            "</table>"
                        ]
                    }
                },
                {
                    "output_type": "execute_result",
                    "metadata": {},
                    "execution_count": 27,
                    "data": {
                        "application/vnd.dataresource+json": {
                            "schema": {
                                "fields": [
                                    {
                                        "name": "Vivienda_ID"
                                    },
                                    {
                                        "name": "Calle"
                                    },
                                    {
                                        "name": "Piso"
                                    },
                                    {
                                        "name": "CodigoPostal"
                                    },
                                    {
                                        "name": "Poblacion"
                                    },
                                    {
                                        "name": "Descripcion"
                                    },
                                    {
                                        "name": "Propietario_id"
                                    },
                                    {
                                        "name": "Agencia_ID"
                                    }
                                ]
                            },
                            "data": [
                                {
                                    "0": "1",
                                    "1": "7ma Avenida 15-01 Zona 1",
                                    "2": "1",
                                    "3": "01001",
                                    "4": "Barrio Moderno",
                                    "5": "Casa de 1 nivel, 4 habitaciones y 2 baños",
                                    "6": "1",
                                    "7": "1"
                                }
                            ]
                        },
                        "text/html": [
                            "<table>",
                            "<tr><th>Vivienda_ID</th><th>Calle</th><th>Piso</th><th>CodigoPostal</th><th>Poblacion</th><th>Descripcion</th><th>Propietario_id</th><th>Agencia_ID</th></tr>",
                            "<tr><td>1</td><td>7ma Avenida 15-01 Zona 1</td><td>1</td><td>01001</td><td>Barrio Moderno</td><td>Casa de 1 nivel, 4 habitaciones y 2 baños</td><td>1</td><td>1</td></tr>",
                            "</table>"
                        ]
                    }
                },
                {
                    "output_type": "execute_result",
                    "metadata": {},
                    "execution_count": 27,
                    "data": {
                        "application/vnd.dataresource+json": {
                            "schema": {
                                "fields": [
                                    {
                                        "name": "Nombre"
                                    },
                                    {
                                        "name": "Apellido"
                                    }
                                ]
                            },
                            "data": [
                                {
                                    "0": "Juan",
                                    "1": "Perez"
                                },
                                {
                                    "0": "Rodolfo",
                                    "1": "Valle"
                                }
                            ]
                        },
                        "text/html": [
                            "<table>",
                            "<tr><th>Nombre</th><th>Apellido</th></tr>",
                            "<tr><td>Juan</td><td>Perez</td></tr>",
                            "<tr><td>Rodolfo</td><td>Valle</td></tr>",
                            "</table>"
                        ]
                    }
                }
            ],
            "execution_count": 27
        },
        {
            "cell_type": "markdown",
            "source": [
                "Fuente:<br>SELECT https://docs.microsoft.com/en-us/sql/t-sql/queries/select-transact-sql?view=sql-server-ver15<br>WHERE https://docs.microsoft.com/en-us/sql/t-sql/queries/where-transact-sql?view=sql-server-ver15"
            ],
            "metadata": {
                "azdata_cell_guid": "eee4355f-62b3-4114-bf7e-cdf45a639a7f",
                "extensions": {
                    "azuredatastudio": {
                        "views": []
                    }
                }
            }
        },
        {
            "cell_type": "markdown",
            "source": [
                "Script necesarios para creación de la base de datos:\n",
                "\n",
                "[Script DDL](.\\scripts\\Control_Alquileres_script.sql)  \n",
                "\n",
                "[Modelo relacional(Imagen)](.\\images\\Control_Alquileres.png)"
            ],
            "metadata": {
                "azdata_cell_guid": "8ef4873a-620b-42b7-b2b8-0a52d7337f43"
            },
            "attachments": {}
        }
    ]
}