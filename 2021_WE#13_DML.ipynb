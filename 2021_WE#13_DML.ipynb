{
    "metadata": {
        "kernelspec": {
            "name": "SQL",
            "display_name": "SQL",
            "language": "sql"
        },
        "language_info": {
            "name": "sql",
            "version": ""
        }
    },
    "nbformat_minor": 2,
    "nbformat": 4,
    "cells": [
        {
            "cell_type": "markdown",
            "source": [
                "# **UMG - Base de Datos 1**\r\n",
                "## **Lenguaje SQL**<br>\r\n",
                "### **Sentencia Join**\r\n",
                "La sentencia JOIN (unir, combinar) de SQL permite combinar registros de una o mas tablas en una base de datos.  En el lenguaje SQL ha tres tipos de JOINS:\r\n",
                "* Interno\r\n",
                "* Extreno\r\n",
                "* Y Cruzado\r\n",
                "\r\n",
                "En el estándar ANSI-SQL especifica cinco tipos de JOIN:\r\n",
                "* INNER\r\n",
                "* LEFT OUTER\r\n",
                "* RIGHT OUTER\r\n",
                "* FULL OUTER\r\n",
                "* y CROSS\r\n",
                "\r\n",
                "En la siguiente imagen, podran ver los diferentes tipos de JOIN que son soportados por SQL Server y los gestores de base de datos en general:\r\n",
                "\r\n",
                "![SQL Joins](images/joins.png)\r\n",
                "\r\n",
                "\r\n",
                "A continuación explicaremos cada uno de ellos a detalle y con ejemplos:\r\n",
                "\r\n",
                "\r\n",
                "\r\n",
                "\r\n",
                "\r\n",
                "\r\n",
                ""
            ],
            "metadata": {
                "azdata_cell_guid": "d4375b08-5e2b-473b-b428-de73f7484ec0"
            }
        },
        {
            "cell_type": "markdown",
            "source": [
                "### **INNER JOIN:** <br>\r\n",
                "Devuelve todas las filas cuando hay al menos una coincidencia en ambas tablas.\r\n",
                "\r\n",
                "Se puede especificar en las clausulas FROM y WHERE.\r\n",
                "\r\n",
                "![INNER JOIN](images/sql-inner-jon.gif)\r\n",
                "\r\n",
                "<u>Sintaxis:</u><br>\r\n",
                "`FROM first_table as FT, second_table as ST`\r\n",
                "`WHERE FT.<Column> = ST.<Column>`\r\n",
                "<br>\r\n",
                "`FROM first_table as FT INNER JOIN second_table as ST`\r\n",
                "`ON FT.<Column> = ST.<Column>`\r\n",
                "\r\n",
                "<u>Ejemplos:</u>"
            ],
            "metadata": {
                "azdata_cell_guid": "f0697034-ef95-43f7-8e72-09d4455b9d49"
            }
        },
        {
            "cell_type": "code",
            "source": [
                "-- EJEMPLO 1\r\n",
                "-- INNER JOIN\r\n",
                "USE MASTER\r\n",
                "SELECT ta.dato_a, tb.dato_b\r\n",
                "FROM table_a ta\r\n",
                "INNER JOIN table_b tb ON ta.dato_a = tb.dato_b"
            ],
            "metadata": {
                "azdata_cell_guid": "6ed8e112-bea8-4f9d-9512-c87fdf223408"
            },
            "outputs": [],
            "execution_count": null
        },
        {
            "cell_type": "code",
            "source": [
                "-- EJEMPLO 2\r\n",
                "-- Mostrar todas la regiones que tengan registradas corporaciones\r\n",
                "USE credit\r\n",
                "SELECT top 10 rg.region_name, cp.corp_name\r\n",
                "FROM region rg, corporation cp\r\n",
                "WHERE rg.region_no = cp.region_no\r\n",
                "order by rg.region_name\r\n",
                "-- Si no hay datos en la tabla corporaciones relacionados a alguna región, no se mostrarán los registros\r\n",
                ""
            ],
            "metadata": {
                "azdata_cell_guid": "d410a756-e66d-43c0-81ea-17be19fe0e55"
            },
            "outputs": [],
            "execution_count": null
        },
        {
            "cell_type": "code",
            "source": [
                "-- EJEMPLO 3\r\n",
                "-- Mostras todos los miembros que pertenezca a la región de china\r\n",
                "USE credit\r\n",
                "SELECT mb.firstname + ' ' + mb.lastname as Nombre, rg.region_name [Nombre Region]\r\n",
                "FROM member mb INNER JOIN region rg\r\n",
                "    ON mb.region_no =  rg.region_no\r\n",
                "WHERE rg.region_name =  'China'\r\n",
                "--"
            ],
            "metadata": {
                "azdata_cell_guid": "c3f8dd30-100f-4857-bfb9-b207bbb002b3"
            },
            "outputs": [],
            "execution_count": null
        },
        {
            "cell_type": "markdown",
            "source": [
                "### **LEFT JOIN / LEFT [OUTER] JOIN**<br>\r\n",
                "Devuelve todas las filas de la tabla de la izquierda y la filas coincidentes de la tabla de la derecha.\r\n",
                "\r\n",
                "![LEFT JOIN](images/sql-left-jon.png)\r\n",
                "\r\n",
                "<u>Sintaxis:</u><br>\r\n",
                "`FROM first_table as FT LEFT JOIN second_table as ST ON FT.<Column> = ST.<Column>`\r\n",
                "\r\n",
                "`FROM first_table as FT LEFT OUTER JOIN second_table as ST ON FT.<Column> = ST.<Column>`\r\n",
                "\r\n",
                "Ejemplos:"
            ],
            "metadata": {
                "azdata_cell_guid": "dd0b1661-f8e0-445b-b041-e7c2dfc6e98e"
            }
        },
        {
            "cell_type": "code",
            "source": [
                "-- EJEMPLO 1\r\n",
                "USE [master]\r\n",
                "SELECT ta.dato_a, tb.dato_b\r\n",
                "FROM table_a ta LEFT JOIN table_b tb \r\n",
                "    ON ta.dato_a = tb.dato_b"
            ],
            "metadata": {
                "azdata_cell_guid": "e280d3a0-10ef-4239-875d-14569af092b2",
                "tags": []
            },
            "outputs": [],
            "execution_count": null
        },
        {
            "cell_type": "code",
            "source": [
                "-- EJEMPLO 2\r\n",
                "-- Mostrar el ID de un Cliente que tenga datos en Estado de Cuenta y Cargos\r\n",
                "USE [Credit]\r\n",
                "DECLARE @id INT\r\n",
                "SELECT @id = 45\r\n",
                "\r\n",
                "SELECT st.member_no as [st_member], ch.member_no [ch_member] \r\n",
                "FROM Member M LEFT JOIN [statement] st \r\n",
                "    ON M.member_no = st.member_no\r\n",
                "LEFT JOIN charge ch\r\n",
                "    ON M.member_no = ch.member_no\r\n",
                "WHERE m.member_no = @id"
            ],
            "metadata": {
                "azdata_cell_guid": "36f9cc72-e792-49eb-a864-850c752141b8"
            },
            "outputs": [],
            "execution_count": null
        },
        {
            "cell_type": "code",
            "source": [
                "-- EJEMPLO 2\r\n",
                "--- Mostrar el ID de un Cliente que tenga al menos un pago y se muestre la suma.\r\n",
                "USE [Credit]\r\n",
                "SELECT M.Member_no\r\n",
                "\t,COUNT(*) AS [Ocurrencias]\r\n",
                "\t,SUM(ISNULL(py.payment_amt,0.00)) AS [Total Pagos]\r\n",
                "FROM Member M LEFT JOIN Payment Py\r\n",
                "\tON M.member_no = Py.Member_no\r\n",
                "GROUP BY M.Member_no\r\n",
                "ORDER BY 3 DESC\r\n",
                ""
            ],
            "metadata": {
                "azdata_cell_guid": "c425d01b-0304-42c2-bde3-8cf38980e04d",
                "tags": []
            },
            "outputs": [],
            "execution_count": null
        },
        {
            "cell_type": "markdown",
            "source": [
                "### **RIGHT JOIN / RIGHT [OUTER] JOIN**<br>\r\n",
                "Es igual que **LEFT JOIN** pero a la inversa. Ya que devuelve todas la filas de la derecha, y las filas coincidientes de la tabla de la izquierda.\r\n",
                "\r\n",
                "![RIGTH JOIN](images/sql-right-jon.gif)\r\n",
                "\r\n",
                "<u>Sintaxis:</u><br>\r\n",
                "`FROM first_table as FT RIGHT JOIN second_table as ST ON FT.<Column> = ST.<Column>`\r\n",
                "\r\n",
                "`FROM first_table as FT RIGHT OUTER JOIN second_table as ST ON FT.<Column> = ST.<Column>`\r\n",
                "\r\n",
                "Ejemplos:"
            ],
            "metadata": {
                "azdata_cell_guid": "2fb317fe-e70a-4417-ab28-faa7b04079da"
            }
        },
        {
            "cell_type": "code",
            "source": [
                "-- EJEMPLO 1\r\n",
                "USE [master]\r\n",
                "SELECT ta.dato_a, tb.dato_b\r\n",
                "FROM table_a ta RIGHT JOIN table_b tb \r\n",
                "    ON ta.dato_a = tb.dato_b"
            ],
            "metadata": {
                "azdata_cell_guid": "aed6d5f3-6407-4d97-a26c-daec935bbd1f"
            },
            "outputs": [],
            "execution_count": null
        },
        {
            "cell_type": "markdown",
            "source": [
                "### **FULL JOIN / FULL [OUTER] JOIN**\r\n",
                "\r\n",
                "Combina los resultados de LEFT y RIGHT JOIN y retorna todos los (Coincidan o no) registros de las tablas en ambos lados de la union.\r\n",
                "\r\n",
                "![FULL JOIN](images/sql-full-outer-join.gif)\r\n",
                "\r\n",
                "<u>Sintaxis:</u><br>\r\n",
                "`FROM first_table as FT FULL JOIN second_table as ST ON FT.<Column> = ST.<Column>`\r\n",
                "\r\n",
                "`FROM first_table as FT FULL [OUTER] JOIN second_table as ST ON FT.<Column> = ST.<Column>`\r\n",
                "\r\n",
                "Otra opcion:<br>\r\n",
                "`FROM first_table as FT LETFT JOIN second_table as ST ON FT.<Column> = ST.<Column>`<br>\r\n",
                "`UNION`<br>\r\n",
                "`FROM first_table as FT RIGHT JOIN second_table as ST ON FT.<Column> = ST.<Column>`\r\n",
                ""
            ],
            "metadata": {
                "azdata_cell_guid": "920ad657-ee83-4a00-9882-79197f18397a"
            }
        },
        {
            "cell_type": "code",
            "source": [
                "--EJEMPLO 1\r\n",
                "USE [master]\r\n",
                "SELECT ta.dato_a, tb.dato_b\r\n",
                "FROM table_a ta FULL JOIN table_b tb \r\n",
                "    ON ta.dato_a = tb.dato_b"
            ],
            "metadata": {
                "azdata_cell_guid": "963ec297-0737-466c-846d-2a1b9c08016e"
            },
            "outputs": [],
            "execution_count": null
        },
        {
            "cell_type": "code",
            "source": [
                "-- EJEMPLO 2 - Utlizando JOIN\r\n",
                "USE [master]\r\n",
                "SELECT ta.dato_a, tb.dato_b\r\n",
                "FROM table_a ta LEFT JOIN table_b tb \r\n",
                "    ON ta.dato_a = tb.dato_b\r\n",
                "UNION \r\n",
                "SELECT ta.dato_a, tb.dato_b\r\n",
                "FROM table_a ta RIGHT JOIN table_b tb \r\n",
                "    ON ta.dato_a = tb.dato_b"
            ],
            "metadata": {
                "azdata_cell_guid": "6a4c9098-451c-4180-bbe3-b19e894aca55"
            },
            "outputs": [],
            "execution_count": null
        },
        {
            "cell_type": "markdown",
            "source": [
                "### **CROSS JOIN**\r\n",
                "El CROSS JOIN produce un conjunto de resultados el cual es el número de registros de la primera tabla multiplicados con el numero de registros de una segunda tabla, si el WHERE no es utilizado. Este tipo de resultado es llamado <u>**PRODUCTO CARTESIANO**</u>\r\n",
                "\r\n",
                "![CROSS JOIN](images/crossjoin.png)\r\n",
                "\r\n",
                "\r\n",
                "Nota: Si la instrucción WHERE es utilizado, el CROSS JOIN funcionará como un INNER JOIN\r\n",
                "\r\n",
                "<u>Sintaxis:</u><br>\r\n",
                "`FROM first_table FT CROSS JOIN second_table ST`\r\n",
                ""
            ],
            "metadata": {
                "azdata_cell_guid": "faa191b3-a0d0-452e-8898-f1e0257cef7e"
            }
        },
        {
            "cell_type": "code",
            "source": [
                "--EJEMPLO 1\r\n",
                "USE [master]\r\n",
                "SELECT ta.dato_a, tb.dato_b\r\n",
                "FROM table_a ta CROSS JOIN table_b tb"
            ],
            "metadata": {
                "azdata_cell_guid": "8eb2b489-4303-40ca-ba1e-a1d7dc742e27"
            },
            "outputs": [],
            "execution_count": null
        },
        {
            "cell_type": "markdown",
            "source": [
                "Otros tipos de JOIN son:"
            ],
            "metadata": {
                "azdata_cell_guid": "6f5f4ec2-df19-4405-b1be-6730ef8a46e3"
            }
        },
        {
            "cell_type": "code",
            "source": [
                "--LEFT EXCLUDING JOIN\r\n",
                "SELECT ta.dato_a, tb.dato_b\r\n",
                "FROM table_a ta\r\n",
                "LEFT JOIN table_b tb ON ta.dato_a = tb.dato_b\r\n",
                "WHERE tb.dato_b IS NULL -- Se excluyen las filas de la tabla de la derecha que coincidan con la izquierda"
            ],
            "metadata": {
                "azdata_cell_guid": "a1828b85-3e3b-4bda-87d8-570aab6e6c5f"
            },
            "outputs": [],
            "execution_count": null
        },
        {
            "cell_type": "code",
            "source": [
                "--RIGHT EXCLUDING JOIN\r\n",
                "SELECT ta.dato_a, tb.dato_b\r\n",
                "FROM table_a ta\r\n",
                "RIGHT JOIN table_b tb ON ta.dato_a = tb.dato_b\r\n",
                "WHERE ta.dato_a IS NULL -- Se excluyen las filas de la tabla de la Izquierda que coincidan con la derecha"
            ],
            "metadata": {
                "azdata_cell_guid": "e5131d6b-f81b-4960-a3d9-c7f6eae16802"
            },
            "outputs": [],
            "execution_count": null
        },
        {
            "cell_type": "code",
            "source": [
                "--OUTER EXCLUDING JOIN\r\n",
                "SELECT ta.dato_a, tb.dato_b\r\n",
                "FROM table_a ta\r\n",
                "FULL JOIN table_b tb ON ta.dato_a = tb.dato_b\r\n",
                "WHERE ta.dato_a IS NULL OR tb.dato_b IS NULL\r\n",
                "--Se excluyen las filas de que coincidan en ambas tablas "
            ],
            "metadata": {
                "azdata_cell_guid": "3fac3e84-db8f-449d-a2a4-e2380d952e91",
                "tags": [
                    "hide_input"
                ]
            },
            "outputs": [],
            "execution_count": 9
        },
        {
            "cell_type": "markdown",
            "source": [
                "**<u>Sources:</u>** <br>\r\n",
                "w3resource.com <br>\r\n",
                "diego.es <br>\r\n",
                "sqlshack.com <br>\r\n",
                "deletesql.com <br>\r\n",
                "microsoft.com"
            ],
            "metadata": {
                "azdata_cell_guid": "edaeca44-a536-454a-8aab-aa2cafeca857"
            }
        }
    ]
}