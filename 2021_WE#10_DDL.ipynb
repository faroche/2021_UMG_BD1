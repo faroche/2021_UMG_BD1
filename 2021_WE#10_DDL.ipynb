{
    "metadata": {
        "kernelspec": {
            "name": "SQL",
            "display_name": "SQL",
            "language": "sql"
        },
        "language_info": {
            "name": "sql",
            "version": ""
        }
    },
    "nbformat_minor": 2,
    "nbformat": 4,
    "cells": [
        {
            "cell_type": "markdown",
            "source": [
                "# **UMG - Base de Datos 1**\n",
                "\n",
                "## **Lenguaje de definición de datos - Data definition lenguaje DDL**\n",
                "\n",
                "Es un lenguaje a nivel de base de datos que permite la creación y/o modificación de objectos como tablas, indices, usuarios.  La sintaxis es similar a la utilizada por un lenguaje programación para definir estructas de datos, esquemas y otros.  Los comandos más comunes son **CREATE**, **ALTER** y **DROP**."
            ],
            "metadata": {
                "azdata_cell_guid": "584efe7a-72a5-4d35-ae5e-832f43ae3510"
            }
        },
        {
            "cell_type": "markdown",
            "source": [
                "## **<u>Sentencia CREATE</u>**\n",
                "\n",
                "Esta instrucción es utilizada para crear base de datos, tablas, indices, vistas, procedimientos almacenados y otros.\n",
                "\n",
                "<u>Ejemplo # 1.1 - Crear base de datos</u>"
            ],
            "metadata": {
                "azdata_cell_guid": "6b97bee1-e68f-46d2-b8e9-b56b3cebc1bf"
            }
        },
        {
            "cell_type": "code",
            "source": [
                "CREATE DATABASE [Hospital]"
            ],
            "metadata": {
                "azdata_cell_guid": "886d94cf-d377-433b-bf10-684a596844dc"
            },
            "outputs": [],
            "execution_count": null
        },
        {
            "cell_type": "markdown",
            "source": [
                "Ejemplo # 1.2 - Crear base de datos con otros parametros"
            ],
            "metadata": {
                "azdata_cell_guid": "64ab72af-2dc5-49d8-9298-65cfd7e982c3"
            }
        },
        {
            "cell_type": "code",
            "source": [
                "USE [Master]\r\n",
                "GO\r\n",
                "CREATE DATABASE [Hospital]\r\n",
                "ON PRIMARY\r\n",
                "(NAME = Hospital_datafile, FILENAME = 'E:\\SQLDATA\\Hospital_datafile.mdf', \r\n",
                "SIZE = 100MB, FILEGROWTH = 100MB\r\n",
                ")\r\n",
                "LOG ON\r\n",
                "(NAME = Hospital_transaction, FILENAME = 'E:\\SQLDATA\\Hospital_logfile.ldf', SIZE = 50MB, FILEGROWTH = 50MB)"
            ],
            "metadata": {
                "azdata_cell_guid": "042a9e88-4f8b-4d93-94a1-5a1fa85984d1"
            },
            "outputs": [],
            "execution_count": null
        },
        {
            "cell_type": "markdown",
            "source": [
                "**Fuente**:  https://docs.microsoft.com/en-us/sql/t-sql/statements/create-database-transact-sql?view=sql-server-ver15"
            ],
            "metadata": {
                "azdata_cell_guid": "3a4c2107-aba1-4915-9c67-b65ca31fd3b5"
            }
        },
        {
            "cell_type": "markdown",
            "source": [
                "<u>Ejemplo # 2.1 - Crear Tabla</u>"
            ],
            "metadata": {
                "azdata_cell_guid": "bcccb892-d4fc-4aae-a296-0956ebd82962"
            }
        },
        {
            "cell_type": "code",
            "source": [
                "USE [Hospital] -- utilizacion de base de datos\n",
                "GO\n",
                "CREATE TABLE Medico (\n",
                "    MedicoID INT IDENTITY PRIMARY KEY, \n",
                "    Nombre_Medico VARCHAR(150) NOT NULL,\n",
                "    Apellido_Medico VARCHAR(150) NOT NULL,\n",
                "    Especialidad VARCHAR(150),\n",
                "    Fecha_Contratacion DATETIME\n",
                ")\n",
                ""
            ],
            "metadata": {
                "azdata_cell_guid": "16e290c4-f89f-4df0-b6d5-bce2be411892"
            },
            "outputs": [],
            "execution_count": null
        },
        {
            "cell_type": "markdown",
            "source": [
                "<u> Ejemplo # 2.2 Crear Tabla utilizando validaciones y valores default </u>"
            ],
            "metadata": {
                "azdata_cell_guid": "245e78cc-8b93-46c2-849f-df1c1a1ed85b"
            }
        },
        {
            "cell_type": "code",
            "source": [
                "USE [Hospital]\r\n",
                "GO\r\n",
                "CREATE TABLE Paciente (\r\n",
                "    PacienteID INT IDENTITY PRIMARY KEY, --Llave primaria\r\n",
                "    Nombre_Paciente VARCHAR(150) NOT NULL,\r\n",
                "    Apellido_Paciente VARCHAR(150) NOT NULL,\r\n",
                "    Fecha_Inscripcion DATETIME DEFAULT (GETDATE()), --Valor Default la fecha del sistema\r\n",
                "    CHECK (Fecha_Inscripcion > '2020-01-01') --validación de fecha\r\n",
                ")"
            ],
            "metadata": {
                "azdata_cell_guid": "f6d04371-e073-420b-8050-f262b24ae601"
            },
            "outputs": [],
            "execution_count": null
        },
        {
            "cell_type": "markdown",
            "source": [
                "<u> Ejemplo # 2.3 Crear Tabla asociativa y/o debil </u>"
            ],
            "metadata": {
                "azdata_cell_guid": "8f76c9cd-8116-4c08-a0de-d5c9b822f641"
            }
        },
        {
            "cell_type": "code",
            "source": [
                "-- 2.3.1\r\n",
                "/*USE [Hospital]\r\n",
                "GO\r\n",
                "CREATE TABLE Paciente_Medico(\r\n",
                "    PacMed_ID int IDENTITY,\r\n",
                "    MedicoID INT\r\n",
                "        REFERENCES dbo.Medico(MedicoID), --REFERENCES \r\n",
                "    PacienteID INT\r\n",
                "        REFERENCES dbo.Paciente(PacienteID)        \r\n",
                ")*/\r\n",
                "--- 2.3.2\r\n",
                "USE [Hospital]\r\n",
                "GO\r\n",
                "CREATE TABLE Paciente_Medico(\r\n",
                "    PacMed_ID int IDENTITY(1,1), --(seed,increment)\r\n",
                "    MedicoID INT,\r\n",
                "    PacienteID INT,\r\n",
                "    CONSTRAINT FK_Medico_MedicoID -- validar Integridad Referencial\r\n",
                "        FOREIGN KEY (MedicoID)\r\n",
                "        REFERENCES dbo.Medico(MedicoID)\r\n",
                "        ON DELETE CASCADE\r\n",
                "        ON UPDATE CASCADE,\r\n",
                "    CONSTRAINT FK_Paciente_PacienteID -- validar Integridad Referencial\r\n",
                "        FOREIGN KEY (PacienteID)\r\n",
                "        REFERENCES dbo.Paciente(PacienteID)\r\n",
                "        ON DELETE CASCADE\r\n",
                "        ON UPDATE CASCADE,\r\n",
                "    CONSTRAINT PK_PacMed_ID -- validad de Entidad\r\n",
                "        PRIMARY KEY CLUSTERED (PacMed_ID)\r\n",
                ")"
            ],
            "metadata": {
                "azdata_cell_guid": "66cafb11-644f-467b-8ffd-c466f3032ac9",
                "tags": []
            },
            "outputs": [],
            "execution_count": null
        },
        {
            "cell_type": "markdown",
            "source": [
                "**Fuente**:  https://docs.microsoft.com/en-us/sql/t-sql/statements/create-table-transact-sql?view=sql-server-ver15"
            ],
            "metadata": {
                "azdata_cell_guid": "d80144a7-a2d6-4485-beaa-619b1e9ea051"
            }
        },
        {
            "cell_type": "markdown",
            "source": [
                "<u>Ejemplo # 2.4 Crear indice </u>\r\n",
                ""
            ],
            "metadata": {
                "azdata_cell_guid": "d352bf53-2334-4628-82f9-478c13795dfd"
            }
        },
        {
            "cell_type": "code",
            "source": [
                "CREATE NONCLUSTERED INDEX IDX_Paciente_Fecha ON dbo.Paciente(Fecha_Inscripcion ASC)"
            ],
            "metadata": {
                "azdata_cell_guid": "b5ed32b0-8606-48c1-91ae-17f743eb45ae"
            },
            "outputs": [],
            "execution_count": null
        },
        {
            "cell_type": "markdown",
            "source": [
                "Fuente: https://docs.microsoft.com/en-us/sql/t-sql/statements/create-index-transact-sql?view=sql-server-ver15"
            ],
            "metadata": {
                "azdata_cell_guid": "191ef95d-00bd-4b4c-b7ce-db9d9fc34199"
            }
        },
        {
            "cell_type": "markdown",
            "source": [
                "<u>Ejemplo # 2.5 Crear Procedimiento Almacenado o Stored Procedure"
            ],
            "metadata": {
                "azdata_cell_guid": "3696e0d4-d523-43fb-81f3-087a4658b284"
            }
        },
        {
            "cell_type": "code",
            "source": [
                "CREATE PROCEDURE Reporte_Pacientes @fechai datetime\r\n",
                "AS\r\n",
                "--Reporte de pacientes inscritos segun la fecha enviada por parametro.\r\n",
                "    SET NOCOUNT ON\r\n",
                "    SELECT nombre_paciente, apellido_paciente \r\n",
                "    FROM Paciente \r\n",
                "    WHERE fecha_inscripcion >= @fechai\r\n",
                "GO"
            ],
            "metadata": {
                "azdata_cell_guid": "d11a5090-b293-45f4-88e7-ebf499caf30e",
                "tags": []
            },
            "outputs": [],
            "execution_count": null
        },
        {
            "cell_type": "markdown",
            "source": [
                "Fuente: https://docs.microsoft.com/en-us/sql/t-sql/statements/create-procedure-transact-sql?view=sql-server-ver15"
            ],
            "metadata": {
                "azdata_cell_guid": "086e6c7e-788f-4c91-9505-d11f483fc3f6"
            }
        },
        {
            "cell_type": "markdown",
            "source": [
                "<u>Ejemplo 2.6 Crear un Login</u>"
            ],
            "metadata": {
                "azdata_cell_guid": "a7ae8e23-83bc-4adf-803a-664f6bcb3a9d"
            }
        },
        {
            "cell_type": "code",
            "source": [
                "CREATE LOGIN md_jperez WITH PASSWORD = '123', CHECK_EXPIRATION =OFF,CHECK_POLICY = OFF,DEFAULT_DATABASE = Hospital\r\n",
                "CREATE LOGIN md_faroche WITH PASSWORD = '456', CHECK_EXPIRATION =OFF,CHECK_POLICY = OFF,DEFAULT_DATABASE = Hospital\r\n",
                "CREATE LOGIN md_arodas WITH PASSWORD = '789', CHECK_EXPIRATION =OFF,CHECK_POLICY = OFF,DEFAULT_DATABASE = Hospital"
            ],
            "metadata": {
                "azdata_cell_guid": "9305c88d-00bb-4065-bf26-67f1eeb89e56"
            },
            "outputs": [],
            "execution_count": null
        },
        {
            "cell_type": "markdown",
            "source": [
                "<u>Ejemplo 2.7 Crear un usuario a nivel de base de datos y establecer roles de lectura y escritura</u>"
            ],
            "metadata": {
                "azdata_cell_guid": "6ccee31d-51f4-4d7c-aaee-9b0b61593385"
            }
        },
        {
            "cell_type": "code",
            "source": [
                "-- CREAR USUARIO A NIVEL DE BASE DE DATOS\r\n",
                "USE [Hospital]\r\n",
                "CREATE USER md_jperez FOR LOGIN md_jperez\r\n",
                "CREATE USER md_faroche FOR LOGIN md_faroche\r\n",
                "CREATE USER md_arodas FOR LOGIN md_arodas\r\n",
                "-- ASIGNAR PERMISOS DE LECTURA\r\n",
                "EXEC sp_addrolemember 'db_datareader','md_jperez'\r\n",
                "EXEC sp_addrolemember 'db_datawriter','md_jperez'\r\n",
                "-- ASIGNAR PERMISOS DE ESCRITURA\r\n",
                "EXEC sp_addrolemember 'db_datareader','md_faroche'\r\n",
                "EXEC sp_addrolemember 'db_datawriter','md_faroche'"
            ],
            "metadata": {
                "azdata_cell_guid": "1385bfa0-d9a8-459b-98d1-03c0a3d29078"
            },
            "outputs": [],
            "execution_count": null
        },
        {
            "cell_type": "markdown",
            "source": [
                "Fuente: https://docs.microsoft.com/en-us/sql/t-sql/statements/create-login-transact-sql?view=sql-server-ver15"
            ],
            "metadata": {
                "azdata_cell_guid": "585cb7a0-d714-4807-b91c-3eb74b2805aa"
            }
        },
        {
            "cell_type": "markdown",
            "source": [
                "## **<u>Sentencia ALTER</u>**\r\n",
                "Instrucción utilizada para la modicación de objetos en SGDB\r\n",
                "\r\n",
                "<u>Ejemplo # 3.1 Modificar Tabla - Agregando Columnas o Campos</u>"
            ],
            "metadata": {
                "azdata_cell_guid": "0601cd2b-a120-4400-b971-15ec8e29fe75"
            }
        },
        {
            "cell_type": "code",
            "source": [
                "ALTER TABLE Paciente ADD Rango_Crediticio int DEFAULT(1) CHECK (Rango_Crediticio >=1 and Rango_Crediticio <= 3 )"
            ],
            "metadata": {
                "azdata_cell_guid": "2c89267f-5ddf-496c-a06f-dfb87804037a"
            },
            "outputs": [],
            "execution_count": null
        },
        {
            "cell_type": "markdown",
            "source": [
                "<u>Ejemplo # 3.2 Modificar Tabla - Removiendo Columnas o Campos</u>"
            ],
            "metadata": {
                "azdata_cell_guid": "16b9ff23-5260-41bc-80e7-c74811cbcc88"
            }
        },
        {
            "cell_type": "code",
            "source": [
                "ALTER TABLE Medico DROP COLUMN Especialidad -- NECESARIO COLOCAR 'DROP COLUMN' "
            ],
            "metadata": {
                "azdata_cell_guid": "8142d7ab-270c-414c-b85c-9bd9dfad73b3"
            },
            "outputs": [],
            "execution_count": null
        },
        {
            "cell_type": "markdown",
            "source": [
                "Fuente: https://docs.microsoft.com/en-us/sql/t-sql/statements/alter-table-transact-sql?view=sql-server-ver15"
            ],
            "metadata": {
                "azdata_cell_guid": "8833bd1c-b416-4e6e-ba96-fa913f14a6b4"
            }
        },
        {
            "cell_type": "markdown",
            "source": [
                "<u>Ejemplo 3.3 Reconstruir un indice</u>\r\n",
                ""
            ],
            "metadata": {
                "azdata_cell_guid": "f64de28d-8822-41ee-a307-95ffabc0fe7c"
            }
        },
        {
            "cell_type": "code",
            "source": [
                "ALTER INDEX IDX_Paciente_Fecha ON dbo.PACIENTE REBUILD  -- otras opciones -> REORGANIZE | DISABLE"
            ],
            "metadata": {
                "azdata_cell_guid": "529bb0c2-7496-4f19-a38a-a673a0519528"
            },
            "outputs": [],
            "execution_count": null
        },
        {
            "cell_type": "markdown",
            "source": [
                "<u>Ejemplo 3.4 Modificar un Stored Procedure </u>\r\n",
                ""
            ],
            "metadata": {
                "azdata_cell_guid": "aa483362-5eb4-4531-bb30-2f408c3df5f7"
            }
        },
        {
            "cell_type": "code",
            "source": [
                "ALTER PROCEDURE Reporte_Pacientes @fechai datetime\r\n",
                "AS\r\n",
                "--Reporte de pacientes inscritos segun la fecha enviada por parametro.\r\n",
                "    SET NOCOUNT ON\r\n",
                "    SELECT nombre_paciente, apellido_paciente, fecha_inscripcion \r\n",
                "    FROM Paciente where fecha_inscripcion >= @fechai\r\n",
                "GO"
            ],
            "metadata": {
                "azdata_cell_guid": "2cb12924-f806-475b-8872-73117827ca04"
            },
            "outputs": [],
            "execution_count": null
        },
        {
            "cell_type": "markdown",
            "source": [
                "<u>Ejemplo 3.5 Modificar un Login</u>\r\n",
                ""
            ],
            "metadata": {
                "azdata_cell_guid": "609fae31-666d-4960-9d2c-ec04411cf171"
            }
        },
        {
            "cell_type": "code",
            "source": [
                "ALTER LOGIN md_faroche DISABLE\r\n",
                "ALTER LOGIN md_jperez WITH PASSWORD = 'c4Mb10' OLD_PASSWORD = '123'"
            ],
            "metadata": {
                "azdata_cell_guid": "5380085a-bb39-429f-9736-e0c352fcc154"
            },
            "outputs": [],
            "execution_count": null
        },
        {
            "cell_type": "markdown",
            "source": [
                "Fuente: https://docs.microsoft.com/en-us/sql/t-sql/statements/alter-login-transact-sql?view=sql-server-ver15"
            ],
            "metadata": {
                "azdata_cell_guid": "1afd8812-b38c-4ec7-8b51-9a75bd32c6eb"
            }
        },
        {
            "cell_type": "markdown",
            "source": [
                "## **<u>Sentecia DROP</u>**\r\n",
                "Instrucción utilizada para la eliminación permanente de objectos en la base de datos"
            ],
            "metadata": {
                "azdata_cell_guid": "5966160a-413f-47a5-9fe6-dddc7ed100db"
            }
        },
        {
            "cell_type": "code",
            "source": [
                "USE [Hospital]\r\n",
                "-- BORRA PROCEDIMIENTO ALMACENADO\r\n",
                "DROP PROCEDURE Reporte_Pacientes\r\n",
                "DROP INDEX IDX_Paciente_Fecha ON Paciente\r\n",
                "DROP TABLE Paciente_Medico\r\n",
                "DROP TABLE Paciente\r\n",
                "\r\n",
                "USE [master]\r\n",
                "DROP LOGIN [md_arodas]\r\n",
                "DROP LOGIN [md_faroche]\r\n",
                "DROP LOGIN [md_jperez]\r\n",
                " "
            ],
            "metadata": {
                "azdata_cell_guid": "3bec9698-1405-479e-a940-9b484f53f590",
                "tags": []
            },
            "outputs": [],
            "execution_count": null
        },
        {
            "cell_type": "markdown",
            "source": [
                "## **<u> Sentencias GRANT, DENY y REVOKE</u>**\r\n",
                "Estas sentencias son utilizadas para otorgar o remover permisos y/o privilegios sobre objectos de la base de datos. Estos privilegios puede ser SELECT, UPDATE, INSERT, DELETE, EXECUTE, REFERENCES, ALTER,  ALL y OTROS\r\n",
                "\r\n",
                "REVOKE: Comando deprecado en sql server 2019, se mantiene por compatibilidad\r\n",
                "\r\n",
                "<u> Ejemplo </u>"
            ],
            "metadata": {
                "azdata_cell_guid": "0da6d2ca-90a4-41e1-962f-1d641913c716"
            }
        },
        {
            "cell_type": "code",
            "source": [
                "USE [Hospital]\r\n",
                "GRANT SELECT ON dbo.Paciente TO md_arodas -- permisos de SELECT\r\n",
                "GRANT EXECUTE ON dbo.Reporte_Pacientes to md_arodas  -- Permisos de Ejecucion\r\n",
                "DENY SELECT ON dbo.Medico TO md_faroche -- \r\n",
                "--REVOKE ALL TO md_faroche -- DEPRECADO | Eliminacion de permisos\r\n",
                "GRANT ALTER on dbo.Reporte_Pacientes to md_jperez -- permisos de modificacion de objecto "
            ],
            "metadata": {
                "azdata_cell_guid": "acac90ff-03d2-425b-b1ac-6c3b01eb28e7"
            },
            "outputs": [],
            "execution_count": null
        },
        {
            "cell_type": "markdown",
            "source": [
                "Fuentes: \r\n",
                "\r\n",
                "https://docs.microsoft.com/en-us/sql/t-sql/statements/grant-object-permissions-transact-sql?view=sql-server-ver15\r\n",
                "\r\n",
                "https://docs.microsoft.com/en-us/sql/t-sql/statements/deny-transact-sql?view=sql-server-ver15\r\n",
                "\r\n",
                "https://docs.microsoft.com/en-us/sql/t-sql/statements/revoke-transact-sql?view=sql-server-ver15\r\n",
                ""
            ],
            "metadata": {
                "azdata_cell_guid": "d26b6e70-653b-41ee-ba71-83a5244b6144"
            }
        }
    ]
}